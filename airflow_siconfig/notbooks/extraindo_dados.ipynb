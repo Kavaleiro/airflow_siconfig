{
 "cells": [
  {
   "cell_type": "code",
   "execution_count": 1,
   "id": "e9ddc64a",
   "metadata": {},
   "outputs": [],
   "source": [
    "import requests\n",
    "import pandas as pd"
   ]
  },
  {
   "cell_type": "code",
   "execution_count": 2,
   "id": "7d26fd5c",
   "metadata": {},
   "outputs": [
    {
     "data": {
      "text/plain": [
       "<Response [200]>"
      ]
     },
     "execution_count": 2,
     "metadata": {},
     "output_type": "execute_result"
    }
   ],
   "source": [
    "#Acessando a api e seu status\n",
    "api_base = \"https://apidatalake.tesouro.gov.br/ords/siconfi/tt//rreo\"\n",
    "#api_base.status_code\n",
    "requests.get(api_base)"
   ]
  },
  {
   "cell_type": "code",
   "execution_count": 8,
   "id": "14773ef9",
   "metadata": {},
   "outputs": [],
   "source": [
    "#Colocando os Parâmetros obrigatórios \n",
    "exercicio = 2024 #Ano de referência dos dados\n",
    "periodo = 6 #Bimestre de referência dos dados\n",
    "tipo_demonstrativo = \"RREO\" #Tipo de relatório entregue \"RREO ou RREO Simplificado\"\n",
    "id_ente = 1100205 #Código IBGE do Ente."
   ]
  },
  {
   "cell_type": "code",
   "execution_count": 9,
   "id": "2a0cead8",
   "metadata": {},
   "outputs": [
    {
     "data": {
      "text/plain": [
       "'https://apidatalake.tesouro.gov.br/ords/siconfi/tt//rreo?an_exercicio=2024&nr_periodo=6&co_tipo_demonstrativo=RREO&id_ente=1100205'"
      ]
     },
     "execution_count": 9,
     "metadata": {},
     "output_type": "execute_result"
    }
   ],
   "source": [
    "url = f\"{api_base}?an_exercicio={exercicio}&nr_periodo={periodo}&co_tipo_demonstrativo={tipo_demonstrativo}&id_ente={id_ente}\"\n",
    "url"
   ]
  },
  {
   "cell_type": "code",
   "execution_count": 10,
   "id": "a635aa06",
   "metadata": {},
   "outputs": [
    {
     "data": {
      "text/plain": [
       "200"
      ]
     },
     "execution_count": 10,
     "metadata": {},
     "output_type": "execute_result"
    }
   ],
   "source": [
    "#verificando se a API está bem sucessedida\n",
    "#params = {'limit': 1000}\n",
    "response = requests.get(url)\n",
    "response.status_code"
   ]
  },
  {
   "cell_type": "code",
   "execution_count": null,
   "id": "fe6a9390",
   "metadata": {},
   "outputs": [],
   "source": [
    "response.json()"
   ]
  },
  {
   "cell_type": "code",
   "execution_count": 14,
   "id": "57a737a9",
   "metadata": {},
   "outputs": [],
   "source": [
    "#extraindo os dados da lista que está dentro dos dicionários \n",
    "lista_dados = []\n",
    "\n",
    "for pasta in response.json()['items']:\n",
    "    lista_dados.append(pasta)"
   ]
  },
  {
   "cell_type": "code",
   "execution_count": 15,
   "id": "f045fc62",
   "metadata": {},
   "outputs": [
    {
     "name": "stdout",
     "output_type": "stream",
     "text": [
      "6\n"
     ]
    }
   ],
   "source": [
    "#Verificando o tamanho do arquivo\n",
    "print(len(response.json()))"
   ]
  },
  {
   "cell_type": "code",
   "execution_count": null,
   "id": "e0b817df",
   "metadata": {},
   "outputs": [],
   "source": [
    "lista_dados"
   ]
  },
  {
   "cell_type": "code",
   "execution_count": 17,
   "id": "7cb3dcff",
   "metadata": {},
   "outputs": [],
   "source": [
    "#Criando um Data Frame\n",
    "dados_brutos  = pd.DataFrame(lista_dados)"
   ]
  },
  {
   "cell_type": "code",
   "execution_count": 18,
   "id": "ee80da4c",
   "metadata": {},
   "outputs": [
    {
     "data": {
      "text/html": [
       "<div>\n",
       "<style scoped>\n",
       "    .dataframe tbody tr th:only-of-type {\n",
       "        vertical-align: middle;\n",
       "    }\n",
       "\n",
       "    .dataframe tbody tr th {\n",
       "        vertical-align: top;\n",
       "    }\n",
       "\n",
       "    .dataframe thead th {\n",
       "        text-align: right;\n",
       "    }\n",
       "</style>\n",
       "<table border=\"1\" class=\"dataframe\">\n",
       "  <thead>\n",
       "    <tr style=\"text-align: right;\">\n",
       "      <th></th>\n",
       "      <th>exercicio</th>\n",
       "      <th>demonstrativo</th>\n",
       "      <th>periodo</th>\n",
       "      <th>periodicidade</th>\n",
       "      <th>instituicao</th>\n",
       "      <th>cod_ibge</th>\n",
       "      <th>uf</th>\n",
       "      <th>populacao</th>\n",
       "      <th>anexo</th>\n",
       "      <th>esfera</th>\n",
       "      <th>rotulo</th>\n",
       "      <th>coluna</th>\n",
       "      <th>cod_conta</th>\n",
       "      <th>conta</th>\n",
       "      <th>valor</th>\n",
       "    </tr>\n",
       "  </thead>\n",
       "  <tbody>\n",
       "    <tr>\n",
       "      <th>0</th>\n",
       "      <td>2024</td>\n",
       "      <td>RREO</td>\n",
       "      <td>6</td>\n",
       "      <td>B</td>\n",
       "      <td>Prefeitura Municipal de Porto Velho - RO</td>\n",
       "      <td>1100205</td>\n",
       "      <td>RO</td>\n",
       "      <td>461748</td>\n",
       "      <td>RREO-Anexo 01</td>\n",
       "      <td>M</td>\n",
       "      <td>Padrão</td>\n",
       "      <td>PREVISÃO INICIAL</td>\n",
       "      <td>ReceitasExcetoIntraOrcamentarias</td>\n",
       "      <td>RECEITAS (EXCETO INTRA-ORÇAMENTÁRIAS) (I)</td>\n",
       "      <td>2.509645e+09</td>\n",
       "    </tr>\n",
       "    <tr>\n",
       "      <th>1</th>\n",
       "      <td>2024</td>\n",
       "      <td>RREO</td>\n",
       "      <td>6</td>\n",
       "      <td>B</td>\n",
       "      <td>Prefeitura Municipal de Porto Velho - RO</td>\n",
       "      <td>1100205</td>\n",
       "      <td>RO</td>\n",
       "      <td>461748</td>\n",
       "      <td>RREO-Anexo 01</td>\n",
       "      <td>M</td>\n",
       "      <td>Padrão</td>\n",
       "      <td>PREVISÃO ATUALIZADA (a)</td>\n",
       "      <td>ReceitasExcetoIntraOrcamentarias</td>\n",
       "      <td>RECEITAS (EXCETO INTRA-ORÇAMENTÁRIAS) (I)</td>\n",
       "      <td>2.706759e+09</td>\n",
       "    </tr>\n",
       "    <tr>\n",
       "      <th>2</th>\n",
       "      <td>2024</td>\n",
       "      <td>RREO</td>\n",
       "      <td>6</td>\n",
       "      <td>B</td>\n",
       "      <td>Prefeitura Municipal de Porto Velho - RO</td>\n",
       "      <td>1100205</td>\n",
       "      <td>RO</td>\n",
       "      <td>461748</td>\n",
       "      <td>RREO-Anexo 01</td>\n",
       "      <td>M</td>\n",
       "      <td>Padrão</td>\n",
       "      <td>No Bimestre (b)</td>\n",
       "      <td>ReceitasExcetoIntraOrcamentarias</td>\n",
       "      <td>RECEITAS (EXCETO INTRA-ORÇAMENTÁRIAS) (I)</td>\n",
       "      <td>5.442452e+08</td>\n",
       "    </tr>\n",
       "    <tr>\n",
       "      <th>3</th>\n",
       "      <td>2024</td>\n",
       "      <td>RREO</td>\n",
       "      <td>6</td>\n",
       "      <td>B</td>\n",
       "      <td>Prefeitura Municipal de Porto Velho - RO</td>\n",
       "      <td>1100205</td>\n",
       "      <td>RO</td>\n",
       "      <td>461748</td>\n",
       "      <td>RREO-Anexo 01</td>\n",
       "      <td>M</td>\n",
       "      <td>Padrão</td>\n",
       "      <td>% (b/a)</td>\n",
       "      <td>ReceitasExcetoIntraOrcamentarias</td>\n",
       "      <td>RECEITAS (EXCETO INTRA-ORÇAMENTÁRIAS) (I)</td>\n",
       "      <td>2.011000e+01</td>\n",
       "    </tr>\n",
       "    <tr>\n",
       "      <th>4</th>\n",
       "      <td>2024</td>\n",
       "      <td>RREO</td>\n",
       "      <td>6</td>\n",
       "      <td>B</td>\n",
       "      <td>Prefeitura Municipal de Porto Velho - RO</td>\n",
       "      <td>1100205</td>\n",
       "      <td>RO</td>\n",
       "      <td>461748</td>\n",
       "      <td>RREO-Anexo 01</td>\n",
       "      <td>M</td>\n",
       "      <td>Padrão</td>\n",
       "      <td>Até o Bimestre (c)</td>\n",
       "      <td>ReceitasExcetoIntraOrcamentarias</td>\n",
       "      <td>RECEITAS (EXCETO INTRA-ORÇAMENTÁRIAS) (I)</td>\n",
       "      <td>2.735479e+09</td>\n",
       "    </tr>\n",
       "  </tbody>\n",
       "</table>\n",
       "</div>"
      ],
      "text/plain": [
       "   exercicio demonstrativo  periodo periodicidade  \\\n",
       "0       2024          RREO        6             B   \n",
       "1       2024          RREO        6             B   \n",
       "2       2024          RREO        6             B   \n",
       "3       2024          RREO        6             B   \n",
       "4       2024          RREO        6             B   \n",
       "\n",
       "                                instituicao  cod_ibge  uf  populacao  \\\n",
       "0  Prefeitura Municipal de Porto Velho - RO   1100205  RO     461748   \n",
       "1  Prefeitura Municipal de Porto Velho - RO   1100205  RO     461748   \n",
       "2  Prefeitura Municipal de Porto Velho - RO   1100205  RO     461748   \n",
       "3  Prefeitura Municipal de Porto Velho - RO   1100205  RO     461748   \n",
       "4  Prefeitura Municipal de Porto Velho - RO   1100205  RO     461748   \n",
       "\n",
       "           anexo esfera  rotulo                   coluna  \\\n",
       "0  RREO-Anexo 01      M  Padrão         PREVISÃO INICIAL   \n",
       "1  RREO-Anexo 01      M  Padrão  PREVISÃO ATUALIZADA (a)   \n",
       "2  RREO-Anexo 01      M  Padrão          No Bimestre (b)   \n",
       "3  RREO-Anexo 01      M  Padrão                  % (b/a)   \n",
       "4  RREO-Anexo 01      M  Padrão       Até o Bimestre (c)   \n",
       "\n",
       "                          cod_conta  \\\n",
       "0  ReceitasExcetoIntraOrcamentarias   \n",
       "1  ReceitasExcetoIntraOrcamentarias   \n",
       "2  ReceitasExcetoIntraOrcamentarias   \n",
       "3  ReceitasExcetoIntraOrcamentarias   \n",
       "4  ReceitasExcetoIntraOrcamentarias   \n",
       "\n",
       "                                       conta         valor  \n",
       "0  RECEITAS (EXCETO INTRA-ORÇAMENTÁRIAS) (I)  2.509645e+09  \n",
       "1  RECEITAS (EXCETO INTRA-ORÇAMENTÁRIAS) (I)  2.706759e+09  \n",
       "2  RECEITAS (EXCETO INTRA-ORÇAMENTÁRIAS) (I)  5.442452e+08  \n",
       "3  RECEITAS (EXCETO INTRA-ORÇAMENTÁRIAS) (I)  2.011000e+01  \n",
       "4  RECEITAS (EXCETO INTRA-ORÇAMENTÁRIAS) (I)  2.735479e+09  "
      ]
     },
     "execution_count": 18,
     "metadata": {},
     "output_type": "execute_result"
    }
   ],
   "source": [
    "dados_brutos.head()"
   ]
  },
  {
   "cell_type": "code",
   "execution_count": null,
   "id": "d1a1acad",
   "metadata": {},
   "outputs": [],
   "source": [
    "#Salvando os dados brutos \n",
    "caminho_da_pasta = \"/home/ubuntu20.0/Documentos/pipeline_siconfig/data\"\n",
    "dados_brutos.to_csv(f\"{caminho_da_pasta}/dados_brutos.csv\", index=False, encoding=\"utf-8\")"
   ]
  },
  {
   "cell_type": "code",
   "execution_count": null,
   "id": "97b41024",
   "metadata": {},
   "outputs": [],
   "source": []
  },
  {
   "cell_type": "markdown",
   "id": "d83837be",
   "metadata": {},
   "source": []
  }
 ],
 "metadata": {
  "kernelspec": {
   "display_name": ".venv",
   "language": "python",
   "name": "python3"
  },
  "language_info": {
   "codemirror_mode": {
    "name": "ipython",
    "version": 3
   },
   "file_extension": ".py",
   "mimetype": "text/x-python",
   "name": "python",
   "nbconvert_exporter": "python",
   "pygments_lexer": "ipython3",
   "version": "3.9.23"
  }
 },
 "nbformat": 4,
 "nbformat_minor": 5
}
